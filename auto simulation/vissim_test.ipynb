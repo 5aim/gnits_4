{
 "cells": [
  {
   "cell_type": "code",
   "execution_count": 1,
   "metadata": {},
   "outputs": [],
   "source": [
    "import os\n",
    "import win32com.client as com"
   ]
  },
  {
   "cell_type": "code",
   "execution_count": 2,
   "metadata": {},
   "outputs": [],
   "source": [
    "base_path = r\"C:/Digital Twin Simulation network/VISSIM/\"\n",
    "version_file = \"songjung.inpx\"\n",
    "version_path = os.path.join(base_path, version_file)\n",
    "Vissim = com.gencache.EnsureDispatch(\"Vissim.Vissim.22\")\n",
    "flag_read_additionally = False\n",
    "Vissim.LoadNet(version_path, flag_read_additionally)"
   ]
  },
  {
   "cell_type": "code",
   "execution_count": 23,
   "metadata": {},
   "outputs": [],
   "source": [
    "presentation = Vissim.Presentation\n",
    "presentation.SetAttValue(\"RecordAVIs\", True)\n"
   ]
  },
  {
   "cell_type": "code",
   "execution_count": null,
   "metadata": {},
   "outputs": [],
   "source": []
  }
 ],
 "metadata": {
  "kernelspec": {
   "display_name": "venv",
   "language": "python",
   "name": "python3"
  },
  "language_info": {
   "codemirror_mode": {
    "name": "ipython",
    "version": 3
   },
   "file_extension": ".py",
   "mimetype": "text/x-python",
   "name": "python",
   "nbconvert_exporter": "python",
   "pygments_lexer": "ipython3",
   "version": "3.11.6"
  }
 },
 "nbformat": 4,
 "nbformat_minor": 2
}
